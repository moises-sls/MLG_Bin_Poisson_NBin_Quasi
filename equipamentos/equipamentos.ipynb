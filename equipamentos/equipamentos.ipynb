{
 "cells": [
  {
   "cell_type": "code",
   "execution_count": 10,
   "id": "ba2a5fa3",
   "metadata": {
    "vscode": {
     "languageId": "r"
    }
   },
   "outputs": [
    {
     "data": {
      "text/html": [
       "<table class=\"dataframe\">\n",
       "<caption>A data.frame: 6 × 4</caption>\n",
       "<thead>\n",
       "\t<tr><th></th><th scope=col>tempo</th><th scope=col>tipo</th><th scope=col>n</th><th scope=col>y</th></tr>\n",
       "\t<tr><th></th><th scope=col>&lt;int&gt;</th><th scope=col>&lt;int&gt;</th><th scope=col>&lt;int&gt;</th><th scope=col>&lt;int&gt;</th></tr>\n",
       "</thead>\n",
       "<tbody>\n",
       "\t<tr><th scope=row>1</th><td>1</td><td>1</td><td>42</td><td>4</td></tr>\n",
       "\t<tr><th scope=row>2</th><td>2</td><td>1</td><td>38</td><td>3</td></tr>\n",
       "\t<tr><th scope=row>3</th><td>3</td><td>1</td><td>35</td><td>3</td></tr>\n",
       "\t<tr><th scope=row>4</th><td>4</td><td>1</td><td>31</td><td>5</td></tr>\n",
       "\t<tr><th scope=row>5</th><td>5</td><td>1</td><td>26</td><td>6</td></tr>\n",
       "\t<tr><th scope=row>6</th><td>1</td><td>2</td><td>50</td><td>6</td></tr>\n",
       "</tbody>\n",
       "</table>\n"
      ],
      "text/latex": [
       "A data.frame: 6 × 4\n",
       "\\begin{tabular}{r|llll}\n",
       "  & tempo & tipo & n & y\\\\\n",
       "  & <int> & <int> & <int> & <int>\\\\\n",
       "\\hline\n",
       "\t1 & 1 & 1 & 42 & 4\\\\\n",
       "\t2 & 2 & 1 & 38 & 3\\\\\n",
       "\t3 & 3 & 1 & 35 & 3\\\\\n",
       "\t4 & 4 & 1 & 31 & 5\\\\\n",
       "\t5 & 5 & 1 & 26 & 6\\\\\n",
       "\t6 & 1 & 2 & 50 & 6\\\\\n",
       "\\end{tabular}\n"
      ],
      "text/markdown": [
       "\n",
       "A data.frame: 6 × 4\n",
       "\n",
       "| <!--/--> | tempo &lt;int&gt; | tipo &lt;int&gt; | n &lt;int&gt; | y &lt;int&gt; |\n",
       "|---|---|---|---|---|\n",
       "| 1 | 1 | 1 | 42 | 4 |\n",
       "| 2 | 2 | 1 | 38 | 3 |\n",
       "| 3 | 3 | 1 | 35 | 3 |\n",
       "| 4 | 4 | 1 | 31 | 5 |\n",
       "| 5 | 5 | 1 | 26 | 6 |\n",
       "| 6 | 1 | 2 | 50 | 6 |\n",
       "\n"
      ],
      "text/plain": [
       "  tempo tipo n  y\n",
       "1 1     1    42 4\n",
       "2 2     1    38 3\n",
       "3 3     1    35 3\n",
       "4 4     1    31 5\n",
       "5 5     1    26 6\n",
       "6 1     2    50 6"
      ]
     },
     "metadata": {},
     "output_type": "display_data"
    }
   ],
   "source": [
    "dados = read.table('equipamentos.txt', header=T)\n",
    "tipo = factor(dados$tipo)\n",
    "tempo = dados$tempo\n",
    "head(dados)"
   ]
  },
  {
   "cell_type": "markdown",
   "id": "3cae77aa",
   "metadata": {
    "vscode": {
     "languageId": "r"
    }
   },
   "source": [
    "#### Modelo"
   ]
  },
  {
   "cell_type": "code",
   "execution_count": 7,
   "id": "164c2d1a",
   "metadata": {
    "vscode": {
     "languageId": "r"
    }
   },
   "outputs": [
    {
     "data": {
      "text/plain": [
       "\n",
       "Call:\n",
       "glm(formula = Xmat ~ tipo + tempo, family = binomial)\n",
       "\n",
       "Coefficients:\n",
       "            Estimate Std. Error z value Pr(>|z|)    \n",
       "(Intercept) -3.26555    0.38929  -8.388  < 2e-16 ***\n",
       "tipo2        1.13255    0.30825   3.674 0.000239 ***\n",
       "tipo3        1.63584    0.31721   5.157 2.51e-07 ***\n",
       "tempo        0.42009    0.09154   4.589 4.45e-06 ***\n",
       "---\n",
       "Signif. codes:  0 '***' 0.001 '**' 0.01 '*' 0.05 '.' 0.1 ' ' 1\n",
       "\n",
       "(Dispersion parameter for binomial family taken to be 1)\n",
       "\n",
       "    Null deviance: 46.5612  on 14  degrees of freedom\n",
       "Residual deviance:  2.9159  on 11  degrees of freedom\n",
       "AIC: 61.345\n",
       "\n",
       "Number of Fisher Scoring iterations: 4\n"
      ]
     },
     "metadata": {},
     "output_type": "display_data"
    }
   ],
   "source": [
    "library(xtable)\n",
    "Xmat = cbind(dados$y, dados$n - dados$y)\n",
    "fit.model = glm(Xmat ~ tipo+tempo, family=binomial)\n",
    "summary(fit.model)"
   ]
  },
  {
   "cell_type": "code",
   "execution_count": 8,
   "id": "25f7389c",
   "metadata": {
    "vscode": {
     "languageId": "r"
    }
   },
   "outputs": [
    {
     "data": {
      "text/html": [
       "0.991862563576995"
      ],
      "text/latex": [
       "0.991862563576995"
      ],
      "text/markdown": [
       "0.991862563576995"
      ],
      "text/plain": [
       "[1] 0.9918626"
      ]
     },
     "metadata": {},
     "output_type": "display_data"
    }
   ],
   "source": [
    "1-pchisq(2.91, 11)"
   ]
  },
  {
   "cell_type": "markdown",
   "id": "27222cf0",
   "metadata": {},
   "source": [
    "Indícios de subdispersão!\n",
    "Queremos que o Desvio do modelo seja próximo da média da Qui-Quadrado, ou seja, no caso da distribuição binomial, queremos que o Residual deviance (desvio do modelo) seja proximo dos seus graus de liberdade (média da qui-quadrado)"
   ]
  },
  {
   "cell_type": "code",
   "execution_count": 9,
   "id": "adbbb756",
   "metadata": {
    "vscode": {
     "languageId": "r"
    }
   },
   "outputs": [
    {
     "data": {
      "image/png": "[encoded data removed]",
      "text/plain": [
       "plot without title"
      ]
     },
     "metadata": {
      "image/png": {
       "height": 420,
       "width": 420
      }
     },
     "output_type": "display_data"
    },
    {
     "data": {
      "image/png": "[encoded data removed]",
      "text/plain": [
       "Plot with title \"\""
      ]
     },
     "metadata": {
      "image/png": {
       "height": 420,
       "width": 420
      }
     },
     "output_type": "display_data"
    }
   ],
   "source": [
    "ntot=dados$n\n",
    "source('C:/Users/moise/Desktop/regressao/capitulo 3/diag_bino.R')\n",
    "source('C:/Users/moise/Desktop/regressao/capitulo 3/envelr_bino.R')"
   ]
  },
  {
   "cell_type": "markdown",
   "id": "d8f0bef3",
   "metadata": {},
   "source": [
    "Podemos perceber uma tendência nos pontos no gráfico normal de probabilidade, os pontos estão \"saindo\" do envelope, mais uma vez indicando subdispersão. Notamos, também, que a variância tende a diminuir quanto maior o valor ajustado, indicando heterocedasticidade."
   ]
  },
  {
   "cell_type": "markdown",
   "id": "73dbe25d",
   "metadata": {
    "vscode": {
     "languageId": "r"
    }
   },
   "source": [
    "### Modelo Quase-Binomial"
   ]
  },
  {
   "cell_type": "markdown",
   "id": "4909b5dd",
   "metadata": {},
   "source": [
    "Buscando o estimador do parâmetro de dispersão através do ajuste \"quasibinomial\", e já corrigindo os erros padrões dos estimadores dos coeficientes $ \\beta $"
   ]
  },
  {
   "cell_type": "code",
   "execution_count": 20,
   "id": "d9a412fa",
   "metadata": {
    "vscode": {
     "languageId": "r"
    }
   },
   "outputs": [
    {
     "data": {
      "text/plain": [
       "\n",
       "Call:\n",
       "glm(formula = Xmat ~ tipo + tempo, family = quasibinomial)\n",
       "\n",
       "Coefficients:\n",
       "            Estimate Std. Error t value Pr(>|t|)    \n",
       "(Intercept) -3.26555    0.20606 -15.848 6.38e-09 ***\n",
       "tipo2        1.13255    0.16316   6.941 2.45e-05 ***\n",
       "tipo3        1.63584    0.16790   9.743 9.59e-07 ***\n",
       "tempo        0.42009    0.04845   8.670 3.02e-06 ***\n",
       "---\n",
       "Signif. codes:  0 '***' 0.001 '**' 0.01 '*' 0.05 '.' 0.1 ' ' 1\n",
       "\n",
       "(Dispersion parameter for quasibinomial family taken to be 0.2801727)\n",
       "\n",
       "    Null deviance: 46.5612  on 14  degrees of freedom\n",
       "Residual deviance:  2.9159  on 11  degrees of freedom\n",
       "AIC: NA\n",
       "\n",
       "Number of Fisher Scoring iterations: 4\n"
      ]
     },
     "metadata": {},
     "output_type": "display_data"
    },
    {
     "data": {
      "text/html": [
       "0.280172696560984"
      ],
      "text/latex": [
       "0.280172696560984"
      ],
      "text/markdown": [
       "0.280172696560984"
      ],
      "text/plain": [
       "[1] 0.2801727"
      ]
     },
     "metadata": {},
     "output_type": "display_data"
    }
   ],
   "source": [
    "fit.model = glm(Xmat ~ tipo+tempo, family=quasibinomial)\n",
    "phi = summary(glm(Xmat ~ tipo+tempo, family=quasibinomial))$dispersion\n",
    "summary(fit.model)\n",
    "phi"
   ]
  },
  {
   "cell_type": "markdown",
   "id": "72e1b7c0",
   "metadata": {},
   "source": [
    "Corrigindo o resíduo componente do desvio para os gráficos de diagnóstico $ t^*_{D_i} = \\sqrt{\\hat{\\phi}}t_{D_i} $"
   ]
  },
  {
   "cell_type": "code",
   "execution_count": 18,
   "id": "be518493",
   "metadata": {
    "vscode": {
     "languageId": "r"
    }
   },
   "outputs": [
    {
     "data": {
      "image/png": "[encoded data removed]",
      "text/plain": [
       "plot without title"
      ]
     },
     "metadata": {
      "image/png": {
       "height": 420,
       "width": 420
      }
     },
     "output_type": "display_data"
    }
   ],
   "source": [
    "X <- model.matrix(fit.model)\n",
    "n <- nrow(X)\n",
    "p <- ncol(X)\n",
    "w <- fit.model$weights\n",
    "W <- diag(w)\n",
    "H <- solve(t(X)%*%W%*%X)\n",
    "H <- sqrt(W)%*%X%*%H%*%t(X)%*%sqrt(W)\n",
    "h <- diag(H)\n",
    "ts <- resid(fit.model,type=\"pearson\")/sqrt(1-h)\n",
    "td <- (sqrt(phi)*resid(fit.model,type=\"deviance\")/sqrt(1-h))\n",
    "di <- (h/(1-h))*(ts^2)\n",
    "a <- max(td)\n",
    "b <- min(td)\n",
    "par(bg='white',mfrow=c(2,2))\n",
    "plot(fitted(fit.model),h,xlab=\"Valor Ajustado\", \n",
    "ylab=\"Medida h\", pch=16)\n",
    "#identify(fitted(fit.model), h, n=1)\n",
    "#\n",
    "plot(di,xlab=\"Índice\", ylab=\"Distância de Cook\",pch=16,ylim=c(0,1))\n",
    "abline(2*p/n,0,lty=2)\n",
    "\n",
    "#identify(di, n=1)\n",
    "#\n",
    "plot(td,xlab=\"Índice\", ylab=\"Resíduo Componente do Desvio\",\n",
    "ylim=c(b-1,a+1), pch=16)\n",
    "abline(2,0,lty=2)\n",
    "abline(-2,0,lty=2)\n",
    "#identify(td, n=1)\n",
    "#\n",
    "plot(fitted(fit.model), td,xlab=\"Valor Ajustado\", \n",
    "ylab=\"Resíduo Componente do Desvio\", pch=16)\n",
    "#identify(fitted(fit.model), td, n=1)\n",
    "par(mfrow=c(1,1))"
   ]
  },
  {
   "cell_type": "code",
   "execution_count": 19,
   "id": "cc2bb71f",
   "metadata": {
    "vscode": {
     "languageId": "r"
    }
   },
   "outputs": [
    {
     "data": {
      "image/png": "[encoded data removed]",
      "text/plain": [
       "Plot with title \"\""
      ]
     },
     "metadata": {
      "image/png": {
       "height": 420,
       "width": 420
      }
     },
     "output_type": "display_data"
    }
   ],
   "source": [
    "X <- model.matrix(fit.model)\n",
    "k <- nrow(X)\n",
    "e <- matrix(0,k,100)\n",
    "tot <- numeric(k)\n",
    "w <- fit.model$weights\n",
    "W <- diag(w)\n",
    "H <- solve(t(X)%*%W%*%X)\n",
    "H <- sqrt(W)%*%X%*%H%*%t(X)%*%sqrt(W)\n",
    "h <- diag(H)\n",
    "td <- sort(sqrt(phi)*resid(fit.model, type=\"deviance\")/sqrt(1-h))\n",
    "#\n",
    "for(i in 1:100){\n",
    "  for(j in 1:k){\n",
    "    dif <- runif(ntot[j]) - fitted(fit.model)[j]\n",
    "    dif[dif>=0] <- 0\n",
    "    dif[dif<0]  <- 1\n",
    "    tot[j] <- sum(dif)}\n",
    "  xmat <- cbind(tot,ntot-tot)\n",
    "  fit <- glm(xmat ~ X, family=binomial)\n",
    "  w <- fit$weights\n",
    "  W <- diag(w)\n",
    "  H <- solve(t(X)%*%W%*%X)\n",
    "  H <- sqrt(W)%*%X%*%H%*%t(X)%*%sqrt(W)\n",
    "  h <- diag(H)\n",
    "  e[,i] <- sort(sqrt(phi)*resid(fit, type=\"deviance\")/sqrt(1-h))}\n",
    "#\n",
    "e1 <- numeric(k)\n",
    "e2 <- numeric(k)\n",
    "#\n",
    "for(i in 1:k){\n",
    "  eo <- sort(e[i,])\n",
    "  e1[i] <- (eo[2]+eo[3])/2\n",
    "  e2[i] <- (eo[97]+eo[98])/2}\n",
    "#\n",
    "med <- apply(e,1,mean)\n",
    "faixa <- range(td,e1,e2)\n",
    "par(bg='white',pty=\"s\")\n",
    "# win.graph()\n",
    "qqnorm(td,xlab=\"Percentil da N(0,1)\",\n",
    "       ylab=\"Componente do Desvio\", ylim=faixa,pch=16, cex=0.8, main=\"\")\n",
    "#\n",
    "par(new=TRUE)\n",
    "qqnorm(e1,axes=F,xlab=\"\",ylab=\"\",type=\"l\",ylim=faixa,lty=1, main=\"\")\n",
    "par(new=TRUE)\n",
    "qqnorm(e2,axes=F,xlab=\"\",ylab=\"\", type=\"l\",ylim=faixa,lty=1, main=\"\")\n",
    "par(new=TRUE)\n",
    "qqnorm(med,axes=F,xlab=\"\", ylab=\"\", type=\"l\", ylim=faixa, lty=2, main=\"\")\n",
    "\n"
   ]
  }
 ],
 "metadata": {
  "kernelspec": {
   "display_name": "R",
   "language": "R",
   "name": "ir"
  },
  "language_info": {
   "codemirror_mode": "r",
   "file_extension": ".r",
   "mimetype": "text/x-r-source",
   "name": "R",
   "pygments_lexer": "r",
   "version": "4.4.2"
  }
 },
 "nbformat": 4,
 "nbformat_minor": 5
}
