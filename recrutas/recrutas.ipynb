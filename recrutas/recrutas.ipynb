{
 "cells": [
  {
   "cell_type": "code",
   "execution_count": 3,
   "id": "82aa324c",
   "metadata": {
    "vscode": {
     "languageId": "r"
    }
   },
   "outputs": [
    {
     "data": {
      "text/html": [
       "<table class=\"dataframe\">\n",
       "<caption>A data.frame: 6 × 5</caption>\n",
       "<thead>\n",
       "\t<tr><th></th><th scope=col>nadar</th><th scope=col>local</th><th scope=col>idade</th><th scope=col>sexo</th><th scope=col>num_infec</th></tr>\n",
       "\t<tr><th></th><th scope=col>&lt;chr&gt;</th><th scope=col>&lt;chr&gt;</th><th scope=col>&lt;chr&gt;</th><th scope=col>&lt;chr&gt;</th><th scope=col>&lt;int&gt;</th></tr>\n",
       "</thead>\n",
       "<tbody>\n",
       "\t<tr><th scope=row>1</th><td>Occas</td><td>NonBeach</td><td>15-19</td><td>Male</td><td>0</td></tr>\n",
       "\t<tr><th scope=row>2</th><td>Occas</td><td>NonBeach</td><td>15-19</td><td>Male</td><td>0</td></tr>\n",
       "\t<tr><th scope=row>3</th><td>Occas</td><td>NonBeach</td><td>15-19</td><td>Male</td><td>0</td></tr>\n",
       "\t<tr><th scope=row>4</th><td>Occas</td><td>NonBeach</td><td>15-19</td><td>Male</td><td>0</td></tr>\n",
       "\t<tr><th scope=row>5</th><td>Occas</td><td>NonBeach</td><td>15-19</td><td>Male</td><td>0</td></tr>\n",
       "\t<tr><th scope=row>6</th><td>Occas</td><td>NonBeach</td><td>15-19</td><td>Male</td><td>0</td></tr>\n",
       "</tbody>\n",
       "</table>\n"
      ],
      "text/latex": [
       "A data.frame: 6 × 5\n",
       "\\begin{tabular}{r|lllll}\n",
       "  & nadar & local & idade & sexo & num\\_infec\\\\\n",
       "  & <chr> & <chr> & <chr> & <chr> & <int>\\\\\n",
       "\\hline\n",
       "\t1 & Occas & NonBeach & 15-19 & Male & 0\\\\\n",
       "\t2 & Occas & NonBeach & 15-19 & Male & 0\\\\\n",
       "\t3 & Occas & NonBeach & 15-19 & Male & 0\\\\\n",
       "\t4 & Occas & NonBeach & 15-19 & Male & 0\\\\\n",
       "\t5 & Occas & NonBeach & 15-19 & Male & 0\\\\\n",
       "\t6 & Occas & NonBeach & 15-19 & Male & 0\\\\\n",
       "\\end{tabular}\n"
      ],
      "text/markdown": [
       "\n",
       "A data.frame: 6 × 5\n",
       "\n",
       "| <!--/--> | nadar &lt;chr&gt; | local &lt;chr&gt; | idade &lt;chr&gt; | sexo &lt;chr&gt; | num_infec &lt;int&gt; |\n",
       "|---|---|---|---|---|---|\n",
       "| 1 | Occas | NonBeach | 15-19 | Male | 0 |\n",
       "| 2 | Occas | NonBeach | 15-19 | Male | 0 |\n",
       "| 3 | Occas | NonBeach | 15-19 | Male | 0 |\n",
       "| 4 | Occas | NonBeach | 15-19 | Male | 0 |\n",
       "| 5 | Occas | NonBeach | 15-19 | Male | 0 |\n",
       "| 6 | Occas | NonBeach | 15-19 | Male | 0 |\n",
       "\n"
      ],
      "text/plain": [
       "  nadar local    idade sexo num_infec\n",
       "1 Occas NonBeach 15-19 Male 0        \n",
       "2 Occas NonBeach 15-19 Male 0        \n",
       "3 Occas NonBeach 15-19 Male 0        \n",
       "4 Occas NonBeach 15-19 Male 0        \n",
       "5 Occas NonBeach 15-19 Male 0        \n",
       "6 Occas NonBeach 15-19 Male 0        "
      ]
     },
     "metadata": {},
     "output_type": "display_data"
    }
   ],
   "source": [
    "dados = read.table(\"recrutas.txt\", header=T)\n",
    "nadar = factor(dados$nadar)\n",
    "local = factor(dados$local)\n",
    "idade = factor(dados$idade)\n",
    "sexo = factor(dados$sexo)\n",
    "num_infec = dados$num_infec\n",
    "levels(idade) = c(\"15-19\", \"20-29\", \"20-29\")\n",
    "head(dados)"
   ]
  },
  {
   "cell_type": "markdown",
   "id": "fe51a187",
   "metadata": {
    "vscode": {
     "languageId": "r"
    }
   },
   "source": [
    "Modelo Poisson"
   ]
  },
  {
   "cell_type": "code",
   "execution_count": 4,
   "id": "deb27379",
   "metadata": {
    "vscode": {
     "languageId": "r"
    }
   },
   "outputs": [
    {
     "data": {
      "text/plain": [
       "\n",
       "Call:\n",
       "glm(formula = num_infec ~ nadar + local + idade, family = poisson)\n",
       "\n",
       "Coefficients:\n",
       "              Estimate Std. Error z value Pr(>|z|)    \n",
       "(Intercept)    -0.1699     0.1157  -1.468  0.14223    \n",
       "nadarOccas      0.6136     0.1050   5.845 5.08e-09 ***\n",
       "localNonBeach   0.4982     0.1029   4.842 1.28e-06 ***\n",
       "idade20-29     -0.2742     0.1011  -2.714  0.00666 ** \n",
       "---\n",
       "Signif. codes:  0 '***' 0.001 '**' 0.01 '*' 0.05 '.' 0.1 ' ' 1\n",
       "\n",
       "(Dispersion parameter for poisson family taken to be 1)\n",
       "\n",
       "    Null deviance: 824.51  on 286  degrees of freedom\n",
       "Residual deviance: 757.23  on 283  degrees of freedom\n",
       "AIC: 1137.6\n",
       "\n",
       "Number of Fisher Scoring iterations: 6\n"
      ]
     },
     "metadata": {},
     "output_type": "display_data"
    }
   ],
   "source": [
    "fit.model = glm(formula = num_infec ~ nadar + local + idade, family = poisson)\n",
    "summary(fit.model)"
   ]
  },
  {
   "cell_type": "code",
   "execution_count": 5,
   "id": "48c4e947",
   "metadata": {
    "vscode": {
     "languageId": "r"
    }
   },
   "outputs": [
    {
     "data": {
      "image/png": "[encoded data removed]",
      "text/plain": [
       "plot without title"
      ]
     },
     "metadata": {
      "image/png": {
       "height": 420,
       "width": 420
      }
     },
     "output_type": "display_data"
    },
    {
     "data": {
      "image/png": "[encoded data removed]",
      "text/plain": [
       "Plot with title \"\""
      ]
     },
     "metadata": {
      "image/png": {
       "height": 420,
       "width": 420
      }
     },
     "output_type": "display_data"
    }
   ],
   "source": [
    "source(\"C:/Users/moise/Desktop/regressao/capitulo 4/diag_pois.R\")\n",
    "source(\"C:/Users/moise/Desktop/regressao/capitulo 4/envel_pois.R\")"
   ]
  },
  {
   "cell_type": "markdown",
   "id": "1a167fc7",
   "metadata": {},
   "source": [
    "Modelo Quase-Verossimilhança"
   ]
  },
  {
   "cell_type": "code",
   "execution_count": 9,
   "id": "59476179",
   "metadata": {
    "vscode": {
     "languageId": "r"
    }
   },
   "outputs": [
    {
     "data": {
      "text/plain": [
       "\n",
       "Call:\n",
       "glm(formula = num_infec ~ nadar + local + idade, family = quasipoisson)\n",
       "\n",
       "Coefficients:\n",
       "              Estimate Std. Error t value Pr(>|t|)   \n",
       "(Intercept)    -0.1699     0.2118  -0.802  0.42325   \n",
       "nadarOccas      0.6136     0.1921   3.194  0.00156 **\n",
       "localNonBeach   0.4982     0.1883   2.646  0.00860 **\n",
       "idade20-29     -0.2742     0.1849  -1.483  0.13923   \n",
       "---\n",
       "Signif. codes:  0 '***' 0.001 '**' 0.01 '*' 0.05 '.' 0.1 ' ' 1\n",
       "\n",
       "(Dispersion parameter for quasipoisson family taken to be 3.348725)\n",
       "\n",
       "    Null deviance: 824.51  on 286  degrees of freedom\n",
       "Residual deviance: 757.23  on 283  degrees of freedom\n",
       "AIC: NA\n",
       "\n",
       "Number of Fisher Scoring iterations: 6\n"
      ]
     },
     "metadata": {},
     "output_type": "display_data"
    },
    {
     "data": {
      "text/html": [
       "3.34872476669813"
      ],
      "text/latex": [
       "3.34872476669813"
      ],
      "text/markdown": [
       "3.34872476669813"
      ],
      "text/plain": [
       "[1] 3.348725"
      ]
     },
     "metadata": {},
     "output_type": "display_data"
    }
   ],
   "source": [
    "fit.model = glm(num_infec ~ nadar + local + idade, family=quasipoisson)\n",
    "summary(fit.model)\n",
    "phi = summary(fit.model)$dispersion\n",
    "phi"
   ]
  },
  {
   "cell_type": "markdown",
   "id": "b56b4017",
   "metadata": {},
   "source": [
    "Corrigindo o resíduo componente do desvio:"
   ]
  },
  {
   "cell_type": "code",
   "execution_count": 13,
   "id": "ad3aae5f",
   "metadata": {
    "vscode": {
     "languageId": "r"
    }
   },
   "outputs": [
    {
     "data": {
      "image/png": "[encoded data removed]",
      "text/plain": [
       "plot without title"
      ]
     },
     "metadata": {
      "image/png": {
       "height": 420,
       "width": 420
      }
     },
     "output_type": "display_data"
    }
   ],
   "source": [
    "X <- model.matrix(fit.model)\n",
    "n <- nrow(X)\n",
    "p <- ncol(X)\n",
    "w <- fit.model$weights\n",
    "W <- diag(w)\n",
    "H <- solve(t(X)%*%W%*%X)\n",
    "H <- sqrt(W)%*%X%*%H%*%t(X)%*%sqrt(W)\n",
    "h <- diag(H)\n",
    "ts <- resid(fit.model,type=\"pearson\")/sqrt(1-h)\n",
    "td <- resid(fit.model,type=\"deviance\")/(sqrt(phi)*sqrt(1-h))\n",
    "di <- (h/((1-h)*2))*(ts^2)\n",
    "par(bg='white',mfrow=c(2,2))\n",
    "a <- min(td)\n",
    "b <- max(td)\n",
    "plot(fitted(fit.model), h,xlab=\"Valor Ajustado\", ylab=\"Medida h\",\n",
    "pch=16)\n",
    "#identify(fitted(fit.model), h, n=1)\n",
    "#\n",
    "plot(di,xlab=\"Índice\", ylab=\"Distância de Cook\", pch=16)\n",
    "abline(2*p/n,0,lty=2)\n",
    "#identify(di, n=1)\n",
    "#\n",
    "plot(td,xlab=\"Índice\", ylab=\"Resíduo Componente do Desvio\",\n",
    "ylim=c(a-1,b+1), pch=16)\n",
    "abline(2,0,lty=2)\n",
    "abline(-2,0,lty=2)\n",
    "#identify(td, n=1)\n",
    "#\n",
    "w <- fit.model$weights\n",
    "eta <- predict(fit.model)\n",
    "z <- eta + resid(fit.model, type=\"pearson\")/sqrt(w)\n",
    "plot(predict(fit.model),z,xlab=\"Preditor Linear\", \n",
    "ylab=\"Variavel z\", pch=16)\n",
    "lines(smooth.spline(predict(fit.model), z, df=2))\n",
    "par(mfrow=c(1,1))"
   ]
  },
  {
   "cell_type": "code",
   "execution_count": 15,
   "id": "e1673ac1",
   "metadata": {
    "vscode": {
     "languageId": "r"
    }
   },
   "outputs": [
    {
     "data": {
      "image/png": "[encoded data removed]",
      "text/plain": [
       "Plot with title \"\""
      ]
     },
     "metadata": {
      "image/png": {
       "height": 420,
       "width": 420
      }
     },
     "output_type": "display_data"
    }
   ],
   "source": [
    "par(mfrow=c(1,1))\n",
    "X <- model.matrix(fit.model)\n",
    "n <- nrow(X)\n",
    "p <- ncol(X)\n",
    "w <- fit.model$weights\n",
    "W <- diag(w)\n",
    "H <- solve(t(X)%*%W%*%X)\n",
    "H <- sqrt(W)%*%X%*%H%*%t(X)%*%sqrt(W)\n",
    "h <- diag(H)\n",
    "td <- resid(fit.model,type=\"deviance\")/(sqrt(phi)*sqrt((1-h)))\n",
    "e <- matrix(0,n,100)\n",
    "#\n",
    "for(i in 1:100){\n",
    "nresp <- rpois(n, fitted(fit.model))\n",
    "fit <- glm(nresp ~ X, family=quasipoisson)\n",
    "w <- fit$weights\n",
    "W <- diag(w)\n",
    "H <- solve(t(X)%*%W%*%X)\n",
    "H <- sqrt(W)%*%X%*%H%*%t(X)%*%sqrt(W)\n",
    "h <- diag(H)\n",
    "e[,i] <- sort(resid(fit,type=\"deviance\")/sqrt(phi)*(sqrt(1-h)))}\n",
    "#\n",
    "e1 <- numeric(n)\n",
    "e2 <- numeric(n)\n",
    "#\n",
    "for(i in 1:n){\n",
    "  eo <- sort(e[i,])\n",
    "e1[i] <- (eo[2]+eo[3])/2\n",
    "e2[i] <- (eo[97]+eo[98])/2}\n",
    "#\n",
    "med <- apply(e,1,mean)\n",
    "faixa <- range(td,e1,e2)\n",
    "par(bg='white',pty=\"s\")\n",
    "qqnorm(td,xlab=\"Percentil da N(0,1)\",\n",
    "ylab=\"Componente do Desvio\", ylim=faixa, pch=16, main=\"\")\n",
    "par(new=TRUE)\n",
    "#\n",
    "qqnorm(e1,axes=F,xlab=\"\",ylab=\"\",type=\"l\",ylim=faixa,lty=1, main=\"\")\n",
    "par(new=TRUE)\n",
    "qqnorm(e2,axes=F,xlab=\"\",ylab=\"\", type=\"l\",ylim=faixa,lty=1, main=\"\")\n",
    "par(new=TRUE)\n",
    "qqnorm(med,axes=F,xlab=\"\", ylab=\"\", type=\"l\",ylim=faixa,lty=2, main=\"\")"
   ]
  },
  {
   "cell_type": "markdown",
   "id": "ed511728",
   "metadata": {},
   "source": [
    "Modelo Binomial Negativo"
   ]
  },
  {
   "cell_type": "code",
   "execution_count": 16,
   "id": "2b0cb1ae",
   "metadata": {
    "vscode": {
     "languageId": "r"
    }
   },
   "outputs": [
    {
     "data": {
      "text/plain": [
       "\n",
       "Call:\n",
       "glm.nb(formula = num_infec ~ nadar + local + idade, init.theta = 0.5728858194, \n",
       "    link = log)\n",
       "\n",
       "Coefficients:\n",
       "              Estimate Std. Error z value Pr(>|z|)   \n",
       "(Intercept)    -0.1322     0.1975  -0.669  0.50327   \n",
       "nadarOccas      0.6117     0.1898   3.222  0.00127 **\n",
       "localNonBeach   0.4838     0.1893   2.556  0.01058 * \n",
       "idade20-29     -0.3349     0.1890  -1.772  0.07644 . \n",
       "---\n",
       "Signif. codes:  0 '***' 0.001 '**' 0.01 '*' 0.05 '.' 0.1 ' ' 1\n",
       "\n",
       "(Dispersion parameter for Negative Binomial(0.5729) family taken to be 1)\n",
       "\n",
       "    Null deviance: 289.09  on 286  degrees of freedom\n",
       "Residual deviance: 269.10  on 283  degrees of freedom\n",
       "AIC: 901.4\n",
       "\n",
       "Number of Fisher Scoring iterations: 1\n",
       "\n",
       "\n",
       "              Theta:  0.5729 \n",
       "          Std. Err.:  0.0897 \n",
       "\n",
       " 2 x log-likelihood:  -891.3990 "
      ]
     },
     "metadata": {},
     "output_type": "display_data"
    },
    {
     "data": {
      "text/html": [
       "0.572885819352761"
      ],
      "text/latex": [
       "0.572885819352761"
      ],
      "text/markdown": [
       "0.572885819352761"
      ],
      "text/plain": [
       "[1] 0.5728858"
      ]
     },
     "metadata": {},
     "output_type": "display_data"
    }
   ],
   "source": [
    "library(MASS)\n",
    "fit.model = glm.nb(num_infec ~ nadar + local + idade)\n",
    "summary(fit.model)\n",
    "fit.model$theta"
   ]
  },
  {
   "cell_type": "markdown",
   "id": "b7dc8a8b",
   "metadata": {
    "vscode": {
     "languageId": "r"
    }
   },
   "source": [
    "p-valor: 1-pchisq(269.21, 282) = 0.698"
   ]
  },
  {
   "cell_type": "code",
   "execution_count": 17,
   "id": "06c0e71c",
   "metadata": {
    "vscode": {
     "languageId": "r"
    }
   },
   "outputs": [
    {
     "data": {
      "image/png": "[encoded data removed]",
      "text/plain": [
       "plot without title"
      ]
     },
     "metadata": {
      "image/png": {
       "height": 420,
       "width": 420
      }
     },
     "output_type": "display_data"
    },
    {
     "data": {
      "image/png": "[encoded data removed]",
      "text/plain": [
       "Plot with title \"\""
      ]
     },
     "metadata": {
      "image/png": {
       "height": 420,
       "width": 420
      }
     },
     "output_type": "display_data"
    }
   ],
   "source": [
    "source(\"C:/Users/moise/Desktop/regressao/capitulo 4/diag_nbin.R\")\n",
    "source(\"C:/Users/moise/Desktop/regressao/capitulo 4/envel_nbin.R\")"
   ]
  }
 ],
 "metadata": {
  "kernelspec": {
   "display_name": "R",
   "language": "R",
   "name": "ir"
  },
  "language_info": {
   "codemirror_mode": "r",
   "file_extension": ".r",
   "mimetype": "text/x-r-source",
   "name": "R",
   "pygments_lexer": "r",
   "version": "4.4.2"
  }
 },
 "nbformat": 4,
 "nbformat_minor": 5
}
